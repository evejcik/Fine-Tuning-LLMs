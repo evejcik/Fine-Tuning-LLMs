{
 "cells": [
  {
   "cell_type": "markdown",
   "metadata": {},
   "source": []
  },
  {
   "cell_type": "code",
   "execution_count": null,
   "metadata": {},
   "outputs": [
    {
     "name": "stdout",
     "output_type": "stream",
     "text": [
      "GPU is available!\n"
     ]
    }
   ],
   "source": [
    "import torch\n",
    "if torch.cuda.is_available():\n",
    "    print(\"GPU is available!\")\n",
    "else:\n",
    "    print(\"GPU not detected. Check your CUDA installation.\")\n",
    "\n",
    "import os\n",
    "import pandas as pd\n",
    "import numpy as np\n",
    "import bz2\n",
    "from transformers import AutoTokenizer, AutoModelForSequenceClassification, AdamW, get_scheduler, TrainingArguments, Trainer, EarlyStoppingCallback, TrainerCallback\n",
    "from huggingface_hub.inference_api import InferenceApi\n",
    "from datasets import load_dataset, Dataset\n",
    "\n",
    "from torch.utils.data import DataLoader\n",
    "\n",
    "import sqlite3 \n",
    "from sklearn.model_selection import train_test_split\n",
    "import optuna\n",
    "\n",
    "\n",
    "from customhead import CustomClassificationHead\n",
    "import tensorboardX\n",
    "import gc\n",
    "\n",
    "import google.generativeai as genai\n",
    "from google.api_core import retry\n",
    "\n",
    "\n"
   ]
  },
  {
   "cell_type": "code",
   "execution_count": 54,
   "metadata": {},
   "outputs": [],
   "source": [
    "#data loading block\n",
    "\n",
    "df = pd.read_csv(\"movies.csv\")\n",
    "\n",
    "df = df.dropna()\n",
    "\n",
    "\n",
    "df.head()\n",
    "# df.to_csv('movies.csv', index = False)\n",
    "\n",
    "# df.shape #5450, 5\n",
    "\n",
    "df['labels'] =df['RATING'].astype(int) -1\n",
    "df['Text'] = df['REVIEW'].astype(str)"
   ]
  },
  {
   "cell_type": "code",
   "execution_count": 9,
   "metadata": {},
   "outputs": [],
   "source": [
    "tokenizer = AutoTokenizer.from_pretrained(\"describeai/gemini\")"
   ]
  },
  {
   "cell_type": "code",
   "execution_count": 10,
   "metadata": {},
   "outputs": [],
   "source": [
    "genai.configure(api_key="")"
   ]
  },
  {
   "cell_type": "code",
   "execution_count": 11,
   "metadata": {},
   "outputs": [],
   "source": [
    "baseline_model = genai.GenerativeModel(\"gemini-1.5-flash-001\")"
   ]
  },
  {
   "cell_type": "code",
   "execution_count": null,
   "metadata": {},
   "outputs": [
    {
     "name": "stdout",
     "output_type": "stream",
     "text": [
      "positive \n",
      "\n"
     ]
    }
   ],
   "source": [
    "prompt = \"Is the review positive or negative? Please answer with a single word: positive or negative. The review is:\"\n",
    "sample_row = df.iloc[0]['Text']\n",
    "baseline_response = baseline_model.generate_content([prompt, sample_row])\n",
    "print(baseline_response.text)"
   ]
  },
  {
   "cell_type": "code",
   "execution_count": null,
   "metadata": {},
   "outputs": [],
   "source": [
    "from tqdm.rich import tqdm\n",
    "\n"
   ]
  },
  {
   "cell_type": "code",
   "execution_count": 55,
   "metadata": {},
   "outputs": [],
   "source": [
    "X = df['Text'].values\n",
    "y = df['labels'].values\n",
    "X_train, X_test, y_train, y_test = train_test_split(X, y, test_size=0.2, random_state=42)\n",
    "train_df = pd.DataFrame({'Text': X_train, 'labels': y_train})\n",
    "test_df = pd.DataFrame({'Text': X_test, 'labels': y_test})"
   ]
  },
  {
   "cell_type": "code",
   "execution_count": 31,
   "metadata": {},
   "outputs": [],
   "source": [
    "def sample_data(df, num_samples_per_class):\n",
    "    sampled_df = df.groupby(\"labels\", group_keys=False).apply(lambda x: x.sample(num_samples_per_class, replace=True))\n",
    "    return sampled_df.reset_index(drop=True)"
   ]
  },
  {
   "cell_type": "code",
   "execution_count": null,
   "metadata": {},
   "outputs": [
    {
     "data": {
      "application/vnd.jupyter.widget-view+json": {
       "model_id": "bbe0174c36c14646a700475c3caf7c8f",
       "version_major": 2,
       "version_minor": 0
      },
      "text/plain": [
       "Output()"
      ]
     },
     "metadata": {},
     "output_type": "display_data"
    },
    {
     "name": "stderr",
     "output_type": "stream",
     "text": [
      "C:\\Users\\cslabwin\\AppData\\Local\\Temp\\ipykernel_53824\\924063836.py:2: DeprecationWarning: DataFrameGroupBy.apply operated on the grouping columns. This behavior is deprecated, and in a future version of pandas the grouping columns will be excluded from the operation. Either pass `include_groups=False` to exclude the groupings or explicitly select the grouping columns after groupby to silence this warning.\n",
      "  sampled_df = df.groupby(\"labels\", group_keys=False).apply(lambda x: x.sample(num_samples_per_class, replace=True))\n",
      "c:\\Users\\cslabwin\\anaconda3\\envs\\MLPROJECT\\Lib\\site-packages\\tqdm\\std.py:885: TqdmExperimentalWarning: rich is experimental/alpha\n",
      "  t = cls(total=total, **tqdm_kwargs)\n"
     ]
    },
    {
     "data": {
      "text/html": [
       "<pre style=\"white-space:pre;overflow-x:auto;line-height:normal;font-family:Menlo,'DejaVu Sans Mono',consolas,'Courier New',monospace\"></pre>\n"
      ],
      "text/plain": []
     },
     "metadata": {},
     "output_type": "display_data"
    }
   ],
   "source": [
    "system_instruct = \"\"\"\n",
    "You are a highly accurate movie review classification service. Your task is to analyze a given movie review and assign it a rating based on the following system:\n",
    "\n",
    "- Ratings range from **0 to 9**, where:\n",
    "  - **0** represents the worst possible review.\n",
    "  - **9** represents an excellent review.\n",
    "  \n",
    "**Instructions:**\n",
    "- You must **only** return a **single integer** from this set: **0, 1, 2, 3, 4, 5, 6, 7, 8, 9**.\n",
    "- **Do not** include any additional text, explanations, or symbols.\n",
    "- If sentiment is unclear, select the rating that best reflects the overall tone.\n",
    "\n",
    "**Review:**\n",
    "\"\"\"\n",
    "\n",
    "instructed_model = genai.GenerativeModel(\"gemini-1.5-flash-001\",\n",
    "                                         system_instruction=system_instruct)\n",
    "\n",
    "retry_policy = {\"retry\": retry.Retry(predicate=retry.if_transient_error)}\n",
    "\n",
    "def predict_label(post: str) -> str:\n",
    "    response = instructed_model.generate_content(post, request_options=retry_policy)\n",
    "    rc = response.candidates[0]\n",
    "\n",
    "    # Any errors, filters, recitation, etc we can mark as a general error\n",
    "    if rc.finish_reason.name != \"STOP\":\n",
    "        return \"(error)\"\n",
    "    else:\n",
    "        # Clean up the response.\n",
    "        return response.text.strip()\n",
    "\n",
    "tqdm.pandas()\n",
    "\n",
    "\n",
    "df_baseline_eval = sample_data(test_df, 2)\n",
    "\n",
    "# Make predictions using the sampled data.\n",
    "df_baseline_eval['Prediction'] = df_baseline_eval['Text'].progress_apply(predict_label)\n",
    "accuracy = (df_baseline_eval[\"labels\"] == df_baseline_eval[\"Prediction\"].astype(int)).sum() / len(df_baseline_eval)\n",
    "print(f\"Accuracy: {accuracy:.2%}\")\n",
    "\n",
    "#Based on 20 samples, 35 % accuracy\n",
    "\n"
   ]
  },
  {
   "cell_type": "code",
   "execution_count": 49,
   "metadata": {},
   "outputs": [],
   "source": [
    "from collections.abc import Iterable\n",
    "import random\n"
   ]
  },
  {
   "cell_type": "code",
   "execution_count": 52,
   "metadata": {},
   "outputs": [],
   "source": [
    "import time\n",
    "import seaborn as sns"
   ]
  },
  {
   "cell_type": "code",
   "execution_count": null,
   "metadata": {},
   "outputs": [],
   "source": []
  },
  {
   "cell_type": "code",
   "execution_count": 57,
   "metadata": {},
   "outputs": [
    {
     "name": "stdout",
     "output_type": "stream",
     "text": [
      "Fine-tuning started: imdb-review-classifier-53772\n"
     ]
    }
   ],
   "source": [
    "# Generate a unique model ID for fine-tuning\n",
    "model_id = f\"imdb-review-classifier-{random.randint(10000, 99999)}\"\n",
    "\n",
    "# Fine-tune Gemini on the IMDB dataset\n",
    "tuning_op = genai.create_tuned_model(\n",
    "    \"models/gemini-1.5-flash-001-tuning\",\n",
    "    training_data=train_df,  # Train on labeled IMDB reviews\n",
    "    input_key=\"Text\",  # Column with input reviews\n",
    "    output_key=\"labels\",  # Column with classification labels (0-9)\n",
    "    id=model_id,\n",
    "    display_name=\"IMDB Review Classification Model\",\n",
    "    batch_size=16,\n",
    "    epoch_count=5  # Train for 5 epochs\n",
    ")\n",
    "\n",
    "print(\"Fine-tuning started:\", model_id)"
   ]
  },
  {
   "cell_type": "code",
   "execution_count": null,
   "metadata": {},
   "outputs": [
    {
     "name": "stdout",
     "output_type": "stream",
     "text": [
      "1\n",
      "1\n",
      "1\n",
      "1\n",
      "1\n",
      "1\n",
      "1\n",
      "1\n",
      "1\n",
      "1\n",
      "1\n",
      "1\n",
      "1\n"
     ]
    }
   ],
   "source": [
    "\n",
    "\n",
    "while (tuned_model := genai.get_tuned_model(f\"tunedModels/{model_id}\")).state.name != 'ACTIVE':\n",
    "    print(tuned_model.state)\n",
    "    time.sleep(60)  # Check every 60 seconds\n",
    "\n",
    "print(f\"Done! The model is {tuned_model.state.name}\")\n",
    "\n",
    "# Plot the loss curve.\n",
    "snapshots = pd.DataFrame(tuned_model.tuning_task.snapshots)\n",
    "sns.lineplot(data=snapshots, x=\"step\", y=\"mean_loss\")\n"
   ]
  }
 ],
 "metadata": {
  "kernelspec": {
   "display_name": "MLPROJECT",
   "language": "python",
   "name": "python3"
  },
  "language_info": {
   "codemirror_mode": {
    "name": "ipython",
    "version": 3
   },
   "file_extension": ".py",
   "mimetype": "text/x-python",
   "name": "python",
   "nbconvert_exporter": "python",
   "pygments_lexer": "ipython3",
   "version": "3.13.2"
  }
 },
 "nbformat": 4,
 "nbformat_minor": 2
}
